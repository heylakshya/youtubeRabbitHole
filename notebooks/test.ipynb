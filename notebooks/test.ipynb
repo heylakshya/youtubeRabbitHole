{
 "metadata": {
  "language_info": {
   "codemirror_mode": {
    "name": "ipython",
    "version": 3
   },
   "file_extension": ".py",
   "mimetype": "text/x-python",
   "name": "python",
   "nbconvert_exporter": "python",
   "pygments_lexer": "ipython3",
   "version": "3.8.5-final"
  },
  "orig_nbformat": 2,
  "kernelspec": {
   "name": "python3",
   "display_name": "Python 3.8.5 64-bit ('webcrawling': conda)",
   "metadata": {
    "interpreter": {
     "hash": "0d7342793d5b56edc0d4e42539d33866faa2c7501918ea0cf9f364ed938b4ba2"
    }
   }
  }
 },
 "nbformat": 4,
 "nbformat_minor": 2,
 "cells": [
  {
   "cell_type": "code",
   "execution_count": 44,
   "metadata": {},
   "outputs": [],
   "source": [
    "import requests\n",
    "from bs4 import BeautifulSoup\n",
    "import re\n",
    "import json"
   ]
  },
  {
   "cell_type": "code",
   "execution_count": 2,
   "metadata": {},
   "outputs": [],
   "source": [
    "url = \"https://www.youtube.com/watch?v=87Gx3U0BDlo\""
   ]
  },
  {
   "cell_type": "code",
   "execution_count": 21,
   "metadata": {},
   "outputs": [
    {
     "output_type": "stream",
     "name": "stdout",
     "text": [
      "6\n"
     ]
    }
   ],
   "source": [
    "result = requests.get(url)\n",
    "src = result.content\n",
    "soup = BeautifulSoup(src, 'html.parser')\n",
    "body = soup.find(\"body\")\n",
    "scripts = body.find_all(\"script\")"
   ]
  },
  {
   "cell_type": "code",
   "execution_count": 60,
   "metadata": {
    "tags": []
   },
   "outputs": [],
   "source": [
    "text = str(scripts[1].contents[0])\n",
    "tag1 = 'window[\"ytInitialPlayerResponse\"] = '\n",
    "tag2 = 'if (window.ytcsi)'\n",
    "jsontext = text[text.find(tag1) + len(tag1) : text.find(tag2)]\n",
    "jsontext = jsontext.strip()\n",
    "jsontext = jsontext[:-1]\n",
    "jsondata = json.loads(jsontext)"
   ]
  },
  {
   "cell_type": "code",
   "execution_count": 62,
   "metadata": {
    "tags": []
   },
   "outputs": [
    {
     "output_type": "stream",
     "name": "stdout",
     "text": [
      "<class 'list'>\n['beautiful soup tutorial', 'beautifulsoup and requests in python', 'quickstart beautifulsoup', 'requests and beautiful soup tutorial python', 'python web scraping tutorial', 'python screen scraping lesson', 'beautifulsoup python', 'requests module python', 'beautiful soup module python', 'how to use beautifulsoup', 'beautifulsoup example', 'beautifulsoup example python', 'beautifulsoup and requests tutorial', 'python web scraping', 'web scraping tutorial']\n"
     ]
    }
   ],
   "source": [
    "tags = jsondata[\"videoDetails\"][\"keywords\"]\n",
    "print(type(tags))\n",
    "print(tags)"
   ]
  },
  {
   "cell_type": "code",
   "execution_count": null,
   "metadata": {},
   "outputs": [],
   "source": []
  }
 ]
}